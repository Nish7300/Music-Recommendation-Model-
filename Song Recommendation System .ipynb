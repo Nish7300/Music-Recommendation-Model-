{
 "cells": [
  {
   "cell_type": "code",
   "execution_count": 1,
   "id": "b7e58200",
   "metadata": {},
   "outputs": [],
   "source": [
    "import pandas as pd\n",
    "import numpy as np"
   ]
  },
  {
   "cell_type": "code",
   "execution_count": 2,
   "id": "06ee0228",
   "metadata": {},
   "outputs": [],
   "source": [
    "df=pd.read_csv('song.csv')"
   ]
  },
  {
   "cell_type": "code",
   "execution_count": 3,
   "id": "bd645fb7",
   "metadata": {},
   "outputs": [
    {
     "data": {
      "text/html": [
       "<div>\n",
       "<style scoped>\n",
       "    .dataframe tbody tr th:only-of-type {\n",
       "        vertical-align: middle;\n",
       "    }\n",
       "\n",
       "    .dataframe tbody tr th {\n",
       "        vertical-align: top;\n",
       "    }\n",
       "\n",
       "    .dataframe thead th {\n",
       "        text-align: right;\n",
       "    }\n",
       "</style>\n",
       "<table border=\"1\" class=\"dataframe\">\n",
       "  <thead>\n",
       "    <tr style=\"text-align: right;\">\n",
       "      <th></th>\n",
       "      <th>artist</th>\n",
       "      <th>song</th>\n",
       "      <th>link</th>\n",
       "      <th>text</th>\n",
       "    </tr>\n",
       "  </thead>\n",
       "  <tbody>\n",
       "    <tr>\n",
       "      <th>0</th>\n",
       "      <td>ABBA</td>\n",
       "      <td>Ahe's My Kind Of Girl</td>\n",
       "      <td>/a/abba/ahes+my+kind+of+girl_20598417.html</td>\n",
       "      <td>Look at her face, it's a wonderful face  \\nAnd...</td>\n",
       "    </tr>\n",
       "    <tr>\n",
       "      <th>1</th>\n",
       "      <td>ABBA</td>\n",
       "      <td>Andante, Andante</td>\n",
       "      <td>/a/abba/andante+andante_20002708.html</td>\n",
       "      <td>Take it easy with me, please  \\nTouch me gentl...</td>\n",
       "    </tr>\n",
       "    <tr>\n",
       "      <th>2</th>\n",
       "      <td>ABBA</td>\n",
       "      <td>As Good As New</td>\n",
       "      <td>/a/abba/as+good+as+new_20003033.html</td>\n",
       "      <td>I'll never know why I had to go  \\nWhy I had t...</td>\n",
       "    </tr>\n",
       "    <tr>\n",
       "      <th>3</th>\n",
       "      <td>ABBA</td>\n",
       "      <td>Bang</td>\n",
       "      <td>/a/abba/bang_20598415.html</td>\n",
       "      <td>Making somebody happy is a question of give an...</td>\n",
       "    </tr>\n",
       "    <tr>\n",
       "      <th>4</th>\n",
       "      <td>ABBA</td>\n",
       "      <td>Bang-A-Boomerang</td>\n",
       "      <td>/a/abba/bang+a+boomerang_20002668.html</td>\n",
       "      <td>Making somebody happy is a question of give an...</td>\n",
       "    </tr>\n",
       "    <tr>\n",
       "      <th>...</th>\n",
       "      <td>...</td>\n",
       "      <td>...</td>\n",
       "      <td>...</td>\n",
       "      <td>...</td>\n",
       "    </tr>\n",
       "    <tr>\n",
       "      <th>57645</th>\n",
       "      <td>Ziggy Marley</td>\n",
       "      <td>Good Old Days</td>\n",
       "      <td>/z/ziggy+marley/good+old+days_10198588.html</td>\n",
       "      <td>Irie days come on play  \\nLet the angels fly l...</td>\n",
       "    </tr>\n",
       "    <tr>\n",
       "      <th>57646</th>\n",
       "      <td>Ziggy Marley</td>\n",
       "      <td>Hand To Mouth</td>\n",
       "      <td>/z/ziggy+marley/hand+to+mouth_20531167.html</td>\n",
       "      <td>Power to the workers  \\nMore power  \\nPower to...</td>\n",
       "    </tr>\n",
       "    <tr>\n",
       "      <th>57647</th>\n",
       "      <td>Zwan</td>\n",
       "      <td>Come With Me</td>\n",
       "      <td>/z/zwan/come+with+me_20148981.html</td>\n",
       "      <td>all you need  \\nis something i'll believe  \\nf...</td>\n",
       "    </tr>\n",
       "    <tr>\n",
       "      <th>57648</th>\n",
       "      <td>Zwan</td>\n",
       "      <td>Desire</td>\n",
       "      <td>/z/zwan/desire_20148986.html</td>\n",
       "      <td>northern star  \\nam i frightened  \\nwhere can ...</td>\n",
       "    </tr>\n",
       "    <tr>\n",
       "      <th>57649</th>\n",
       "      <td>Zwan</td>\n",
       "      <td>Heartsong</td>\n",
       "      <td>/z/zwan/heartsong_20148991.html</td>\n",
       "      <td>come in  \\nmake yourself at home  \\ni'm a bit ...</td>\n",
       "    </tr>\n",
       "  </tbody>\n",
       "</table>\n",
       "<p>57650 rows × 4 columns</p>\n",
       "</div>"
      ],
      "text/plain": [
       "             artist                   song  \\\n",
       "0              ABBA  Ahe's My Kind Of Girl   \n",
       "1              ABBA       Andante, Andante   \n",
       "2              ABBA         As Good As New   \n",
       "3              ABBA                   Bang   \n",
       "4              ABBA       Bang-A-Boomerang   \n",
       "...             ...                    ...   \n",
       "57645  Ziggy Marley          Good Old Days   \n",
       "57646  Ziggy Marley          Hand To Mouth   \n",
       "57647          Zwan           Come With Me   \n",
       "57648          Zwan                 Desire   \n",
       "57649          Zwan              Heartsong   \n",
       "\n",
       "                                              link  \\\n",
       "0       /a/abba/ahes+my+kind+of+girl_20598417.html   \n",
       "1            /a/abba/andante+andante_20002708.html   \n",
       "2             /a/abba/as+good+as+new_20003033.html   \n",
       "3                       /a/abba/bang_20598415.html   \n",
       "4           /a/abba/bang+a+boomerang_20002668.html   \n",
       "...                                            ...   \n",
       "57645  /z/ziggy+marley/good+old+days_10198588.html   \n",
       "57646  /z/ziggy+marley/hand+to+mouth_20531167.html   \n",
       "57647           /z/zwan/come+with+me_20148981.html   \n",
       "57648                 /z/zwan/desire_20148986.html   \n",
       "57649              /z/zwan/heartsong_20148991.html   \n",
       "\n",
       "                                                    text  \n",
       "0      Look at her face, it's a wonderful face  \\nAnd...  \n",
       "1      Take it easy with me, please  \\nTouch me gentl...  \n",
       "2      I'll never know why I had to go  \\nWhy I had t...  \n",
       "3      Making somebody happy is a question of give an...  \n",
       "4      Making somebody happy is a question of give an...  \n",
       "...                                                  ...  \n",
       "57645  Irie days come on play  \\nLet the angels fly l...  \n",
       "57646  Power to the workers  \\nMore power  \\nPower to...  \n",
       "57647  all you need  \\nis something i'll believe  \\nf...  \n",
       "57648  northern star  \\nam i frightened  \\nwhere can ...  \n",
       "57649  come in  \\nmake yourself at home  \\ni'm a bit ...  \n",
       "\n",
       "[57650 rows x 4 columns]"
      ]
     },
     "execution_count": 3,
     "metadata": {},
     "output_type": "execute_result"
    }
   ],
   "source": [
    "df"
   ]
  },
  {
   "cell_type": "code",
   "execution_count": 4,
   "id": "5ec0a477",
   "metadata": {},
   "outputs": [
    {
     "data": {
      "text/plain": [
       "(57650, 4)"
      ]
     },
     "execution_count": 4,
     "metadata": {},
     "output_type": "execute_result"
    }
   ],
   "source": [
    "df.shape"
   ]
  },
  {
   "cell_type": "code",
   "execution_count": 5,
   "id": "6a78eb31",
   "metadata": {},
   "outputs": [],
   "source": [
    "df=df.sample(n=5000).drop('link',axis=1).reset_index(drop=True)"
   ]
  },
  {
   "cell_type": "code",
   "execution_count": 6,
   "id": "d2da5ebc",
   "metadata": {
    "scrolled": true
   },
   "outputs": [
    {
     "data": {
      "text/html": [
       "<div>\n",
       "<style scoped>\n",
       "    .dataframe tbody tr th:only-of-type {\n",
       "        vertical-align: middle;\n",
       "    }\n",
       "\n",
       "    .dataframe tbody tr th {\n",
       "        vertical-align: top;\n",
       "    }\n",
       "\n",
       "    .dataframe thead th {\n",
       "        text-align: right;\n",
       "    }\n",
       "</style>\n",
       "<table border=\"1\" class=\"dataframe\">\n",
       "  <thead>\n",
       "    <tr style=\"text-align: right;\">\n",
       "      <th></th>\n",
       "      <th>artist</th>\n",
       "      <th>song</th>\n",
       "      <th>text</th>\n",
       "    </tr>\n",
       "  </thead>\n",
       "  <tbody>\n",
       "    <tr>\n",
       "      <th>0</th>\n",
       "      <td>Procol Harum</td>\n",
       "      <td>Your Own Choice</td>\n",
       "      <td>There's too many women and not enough wine  \\n...</td>\n",
       "    </tr>\n",
       "    <tr>\n",
       "      <th>1</th>\n",
       "      <td>Pet Shop Boys</td>\n",
       "      <td>If Love Were All</td>\n",
       "      <td>I believe in doing what I can  \\nIn crying whe...</td>\n",
       "    </tr>\n",
       "    <tr>\n",
       "      <th>2</th>\n",
       "      <td>Gloria Estefan</td>\n",
       "      <td>Higher</td>\n",
       "      <td>Here we go, here we go now  \\n  \\nI saw a girl...</td>\n",
       "    </tr>\n",
       "    <tr>\n",
       "      <th>3</th>\n",
       "      <td>Waylon Jennings</td>\n",
       "      <td>Alone</td>\n",
       "      <td>Isn't there anyone  \\nWho'll take me like I am...</td>\n",
       "    </tr>\n",
       "    <tr>\n",
       "      <th>4</th>\n",
       "      <td>Westlife</td>\n",
       "      <td>Fragile Heart</td>\n",
       "      <td>A fragile heart, was broken before,  \\nI don't...</td>\n",
       "    </tr>\n",
       "    <tr>\n",
       "      <th>...</th>\n",
       "      <td>...</td>\n",
       "      <td>...</td>\n",
       "      <td>...</td>\n",
       "    </tr>\n",
       "    <tr>\n",
       "      <th>4995</th>\n",
       "      <td>Adam Sandler</td>\n",
       "      <td>Grow Old With You</td>\n",
       "      <td>I wanna make you smile whenever you're sad  \\n...</td>\n",
       "    </tr>\n",
       "    <tr>\n",
       "      <th>4996</th>\n",
       "      <td>Wu-Tang Clan</td>\n",
       "      <td>Shame On A Nuh</td>\n",
       "      <td>Yo, this the O.D.B.  \\nNew radio version for y...</td>\n",
       "    </tr>\n",
       "    <tr>\n",
       "      <th>4997</th>\n",
       "      <td>Robbie Williams</td>\n",
       "      <td>South Of The Border</td>\n",
       "      <td>I know a freaky young lady  \\nName of Cocaine ...</td>\n",
       "    </tr>\n",
       "    <tr>\n",
       "      <th>4998</th>\n",
       "      <td>John Denver</td>\n",
       "      <td>Gimme Your Love</td>\n",
       "      <td>Oh, spring is here and love is in the air  \\nO...</td>\n",
       "    </tr>\n",
       "    <tr>\n",
       "      <th>4999</th>\n",
       "      <td>Bruno Mars</td>\n",
       "      <td>We'll Be Alright</td>\n",
       "      <td>We are young, we run free  \\nStay up late, we ...</td>\n",
       "    </tr>\n",
       "  </tbody>\n",
       "</table>\n",
       "<p>5000 rows × 3 columns</p>\n",
       "</div>"
      ],
      "text/plain": [
       "               artist                 song  \\\n",
       "0        Procol Harum      Your Own Choice   \n",
       "1       Pet Shop Boys     If Love Were All   \n",
       "2      Gloria Estefan               Higher   \n",
       "3     Waylon Jennings                Alone   \n",
       "4            Westlife        Fragile Heart   \n",
       "...               ...                  ...   \n",
       "4995     Adam Sandler    Grow Old With You   \n",
       "4996     Wu-Tang Clan       Shame On A Nuh   \n",
       "4997  Robbie Williams  South Of The Border   \n",
       "4998      John Denver      Gimme Your Love   \n",
       "4999       Bruno Mars     We'll Be Alright   \n",
       "\n",
       "                                                   text  \n",
       "0     There's too many women and not enough wine  \\n...  \n",
       "1     I believe in doing what I can  \\nIn crying whe...  \n",
       "2     Here we go, here we go now  \\n  \\nI saw a girl...  \n",
       "3     Isn't there anyone  \\nWho'll take me like I am...  \n",
       "4     A fragile heart, was broken before,  \\nI don't...  \n",
       "...                                                 ...  \n",
       "4995  I wanna make you smile whenever you're sad  \\n...  \n",
       "4996  Yo, this the O.D.B.  \\nNew radio version for y...  \n",
       "4997  I know a freaky young lady  \\nName of Cocaine ...  \n",
       "4998  Oh, spring is here and love is in the air  \\nO...  \n",
       "4999  We are young, we run free  \\nStay up late, we ...  \n",
       "\n",
       "[5000 rows x 3 columns]"
      ]
     },
     "execution_count": 6,
     "metadata": {},
     "output_type": "execute_result"
    }
   ],
   "source": [
    "df"
   ]
  },
  {
   "cell_type": "markdown",
   "id": "4f420286",
   "metadata": {},
   "source": [
    "# Cleaning"
   ]
  },
  {
   "cell_type": "code",
   "execution_count": 7,
   "id": "d3471916",
   "metadata": {},
   "outputs": [
    {
     "data": {
      "text/plain": [
       "'Your Own Choice'"
      ]
     },
     "execution_count": 7,
     "metadata": {},
     "output_type": "execute_result"
    }
   ],
   "source": [
    "df['song'][0]"
   ]
  },
  {
   "cell_type": "code",
   "execution_count": 8,
   "id": "23c599b6",
   "metadata": {},
   "outputs": [],
   "source": [
    "df['text']=df['text'].str.lower().replace(r'[^\\w\\s]','').replace('\\\\n','', regex= True)"
   ]
  },
  {
   "cell_type": "code",
   "execution_count": 9,
   "id": "f760df44",
   "metadata": {
    "scrolled": true
   },
   "outputs": [
    {
     "data": {
      "text/plain": [
       "\"there's too many women and not enough wine  too many poets and not enough rhyme  too many glasses and not enough time  draw your own conclusions    my old dog's a good old dog  my old man's a silly old sod  the human face is a terrible place  choose your own examples    went to the river, but i could not swim  knew i'd drown if i went in  lost my faith in a terrible race  rest-in-peace hereafter\""
      ]
     },
     "execution_count": 9,
     "metadata": {},
     "output_type": "execute_result"
    }
   ],
   "source": [
    "df['text'][0]"
   ]
  },
  {
   "cell_type": "code",
   "execution_count": 10,
   "id": "9d3b9eac",
   "metadata": {},
   "outputs": [],
   "source": [
    "import nltk\n",
    "from nltk.stem.porter import PorterStemmer\n",
    "\n",
    "ps= PorterStemmer()\n",
    "\n",
    "\n",
    "def tokenization(txt):\n",
    "    tokens= nltk.word_tokenize(txt)\n",
    "    stemming= [ps.stem(i) for i in tokens]\n",
    "        \n",
    "    return \" \" . join(stemming)"
   ]
  },
  {
   "cell_type": "code",
   "execution_count": 11,
   "id": "cfea79a6",
   "metadata": {},
   "outputs": [
    {
     "data": {
      "text/plain": [
       "'thi is muy love love someonn'"
      ]
     },
     "execution_count": 11,
     "metadata": {},
     "output_type": "execute_result"
    }
   ],
   "source": [
    "tokenization('this is muy loving loved someonne')"
   ]
  },
  {
   "cell_type": "code",
   "execution_count": 12,
   "id": "83065bca",
   "metadata": {},
   "outputs": [],
   "source": [
    "df['text']=df['text'].apply(lambda x: tokenization(x))"
   ]
  },
  {
   "cell_type": "code",
   "execution_count": 13,
   "id": "093c8781",
   "metadata": {},
   "outputs": [
    {
     "data": {
      "text/plain": [
       "0       there 's too mani women and not enough wine to...\n",
       "1       i believ in do what i can in cri when i must i...\n",
       "2       here we go , here we go now i saw a girl today...\n",
       "3       is n't there anyon who 'll take me like i am ?...\n",
       "4       a fragil heart , wa broken befor , i do n't th...\n",
       "                              ...                        \n",
       "4995    i wan na make you smile whenev you 're sad car...\n",
       "4996    yo , thi the o.d.b . new radio version for ya ...\n",
       "4997    i know a freaki young ladi name of cocain kati...\n",
       "4998    oh , spring is here and love is in the air ove...\n",
       "4999    we are young , we run free stay up late , we d...\n",
       "Name: text, Length: 5000, dtype: object"
      ]
     },
     "execution_count": 13,
     "metadata": {},
     "output_type": "execute_result"
    }
   ],
   "source": [
    "df['text']"
   ]
  },
  {
   "cell_type": "code",
   "execution_count": 14,
   "id": "dcd8943f",
   "metadata": {},
   "outputs": [],
   "source": [
    "from sklearn.feature_extraction.text import TfidfVectorizer\n",
    "from sklearn.metrics.pairwise import cosine_similarity"
   ]
  },
  {
   "cell_type": "code",
   "execution_count": 15,
   "id": "7e7ac301",
   "metadata": {},
   "outputs": [],
   "source": [
    "tfid= TfidfVectorizer(stop_words='english')\n",
    "matrix= tfid.fit_transform(df['text'])"
   ]
  },
  {
   "cell_type": "code",
   "execution_count": 16,
   "id": "08f22b65",
   "metadata": {},
   "outputs": [
    {
     "data": {
      "text/plain": [
       "(5000, 17711)"
      ]
     },
     "execution_count": 16,
     "metadata": {},
     "output_type": "execute_result"
    }
   ],
   "source": [
    "matrix.shape"
   ]
  },
  {
   "cell_type": "code",
   "execution_count": 17,
   "id": "64204c6e",
   "metadata": {},
   "outputs": [],
   "source": [
    "sim= cosine_similarity(matrix)"
   ]
  },
  {
   "cell_type": "code",
   "execution_count": 18,
   "id": "3cd51ea4",
   "metadata": {},
   "outputs": [
    {
     "data": {
      "text/plain": [
       "array([1.        , 0.03544953, 0.00104898, ..., 0.05344926, 0.        ,\n",
       "       0.00117057])"
      ]
     },
     "execution_count": 18,
     "metadata": {},
     "output_type": "execute_result"
    }
   ],
   "source": [
    "sim[0]"
   ]
  },
  {
   "cell_type": "code",
   "execution_count": 19,
   "id": "7b393a67",
   "metadata": {},
   "outputs": [
    {
     "data": {
      "text/plain": [
       "'Your Own Choice'"
      ]
     },
     "execution_count": 19,
     "metadata": {},
     "output_type": "execute_result"
    }
   ],
   "source": [
    "df['song'][0]"
   ]
  },
  {
   "cell_type": "code",
   "execution_count": 27,
   "id": "f14ec0c4",
   "metadata": {},
   "outputs": [
    {
     "data": {
      "text/html": [
       "<div>\n",
       "<style scoped>\n",
       "    .dataframe tbody tr th:only-of-type {\n",
       "        vertical-align: middle;\n",
       "    }\n",
       "\n",
       "    .dataframe tbody tr th {\n",
       "        vertical-align: top;\n",
       "    }\n",
       "\n",
       "    .dataframe thead th {\n",
       "        text-align: right;\n",
       "    }\n",
       "</style>\n",
       "<table border=\"1\" class=\"dataframe\">\n",
       "  <thead>\n",
       "    <tr style=\"text-align: right;\">\n",
       "      <th></th>\n",
       "      <th>artist</th>\n",
       "      <th>song</th>\n",
       "      <th>text</th>\n",
       "    </tr>\n",
       "  </thead>\n",
       "  <tbody>\n",
       "  </tbody>\n",
       "</table>\n",
       "</div>"
      ],
      "text/plain": [
       "Empty DataFrame\n",
       "Columns: [artist, song, text]\n",
       "Index: []"
      ]
     },
     "execution_count": 27,
     "metadata": {},
     "output_type": "execute_result"
    }
   ],
   "source": [
    "df[df['song']== 'Party In The CIA']"
   ]
  },
  {
   "cell_type": "code",
   "execution_count": 21,
   "id": "3c326db7",
   "metadata": {},
   "outputs": [],
   "source": [
    "distances =sorted(list(enumerate (sim[0])),reverse= False, key=lambda x:x[1])"
   ]
  },
  {
   "cell_type": "code",
   "execution_count": 22,
   "id": "77c94bde",
   "metadata": {},
   "outputs": [],
   "source": [
    "def recommendation(song):\n",
    "    idx=df[df['song']==song].index[0]\n",
    "    distances =sorted(list(enumerate (sim[idx])),reverse= False, key=lambda x:x[1])\n",
    "    \n",
    "    songs=[]\n",
    "    \n",
    "    for i in distances[1:21]:\n",
    "        songs.append(df.iloc[i[0]].song)\n",
    "    return songs"
   ]
  },
  {
   "cell_type": "code",
   "execution_count": 23,
   "id": "8f476865",
   "metadata": {},
   "outputs": [
    {
     "data": {
      "text/plain": [
       "['War Games',\n",
       " 'May This Be Love',\n",
       " 'Christian Brothers',\n",
       " \"Lt's Midnight Dream\",\n",
       " 'The Sound Of The Crowd',\n",
       " 'Oh The Guilt',\n",
       " 'Big Socks',\n",
       " 'Islands',\n",
       " 'Softly And Tenderly',\n",
       " 'Sweet Dream',\n",
       " '89 Vision',\n",
       " \"It Ain't Necessarily So\",\n",
       " 'Fujiyama Mama',\n",
       " 'Never Know Why',\n",
       " 'The Connection',\n",
       " 'For Calvin',\n",
       " 'Cool Water',\n",
       " 'Sa Ugoy Ng Duyan',\n",
       " \"My Bucket's Got A Hole In It\",\n",
       " 'Ada Lagi Yang Mati']"
      ]
     },
     "execution_count": 23,
     "metadata": {},
     "output_type": "execute_result"
    }
   ],
   "source": [
    "recommendation('La Vie En Rose')"
   ]
  },
  {
   "cell_type": "code",
   "execution_count": 24,
   "id": "9a56bffa",
   "metadata": {},
   "outputs": [],
   "source": [
    "import pickle"
   ]
  },
  {
   "cell_type": "code",
   "execution_count": 25,
   "id": "0a5bc719",
   "metadata": {},
   "outputs": [],
   "source": [
    "pickle.dump(df, open('df.pkl', 'wb'))"
   ]
  },
  {
   "cell_type": "code",
   "execution_count": 26,
   "id": "f9df792e",
   "metadata": {},
   "outputs": [],
   "source": [
    "pickle.dump(sim, open('sim.pkl','wb'))"
   ]
  }
 ],
 "metadata": {
  "kernelspec": {
   "display_name": "Python 3 (ipykernel)",
   "language": "python",
   "name": "python3"
  },
  "language_info": {
   "codemirror_mode": {
    "name": "ipython",
    "version": 3
   },
   "file_extension": ".py",
   "mimetype": "text/x-python",
   "name": "python",
   "nbconvert_exporter": "python",
   "pygments_lexer": "ipython3",
   "version": "3.11.5"
  }
 },
 "nbformat": 4,
 "nbformat_minor": 5
}
